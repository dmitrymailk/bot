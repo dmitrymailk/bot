{
 "cells": [
  {
   "cell_type": "code",
   "execution_count": 2,
   "metadata": {},
   "outputs": [
    {
     "name": "stdout",
     "output_type": "stream",
     "text": [
      "<|system|>\n",
      "You are a friendly chatbot who always responds in the style of a pirate</s>\n",
      "<|user|>\n",
      "Почему трава зеленая?</s>\n",
      "<|assistant|>\n",
      "\"The grass green is not in the style of a pirate, but in the style of a green thumb. We do not have access to any information on the personal preference of the trainer.\"\n"
     ]
    }
   ],
   "source": [
    "# Install transformers from source - only needed for versions <= v4.34\n",
    "# pip install git+https://github.com/huggingface/transformers.git\n",
    "# pip install accelerate\n",
    "import os\n",
    "\n",
    "os.environ[\"CUDA_VISIBLE_DEVICES\"] = \"1\"\n",
    "import torch\n",
    "from transformers import pipeline\n",
    "\n",
    "pipe = pipeline(\n",
    "    \"text-generation\",\n",
    "    model=\"TinyLlama/TinyLlama-1.1B-Chat-v0.6\",\n",
    "    torch_dtype=torch.bfloat16,\n",
    "    device_map=\"auto\",\n",
    "    use_fast=False,\n",
    ")\n",
    "\n",
    "# ..."
   ]
  },
  {
   "cell_type": "code",
   "execution_count": 5,
   "metadata": {},
   "outputs": [
    {
     "name": "stdout",
     "output_type": "stream",
     "text": [
      "<|system|>\n",
      "You are a friendly chatbot.</s>\n",
      "<|user|>\n",
      "What grass is green, explain me please?</s>\n",
      "<|assistant|>\n",
      "Green grass is a type of grass that has the following properties:\n",
      "\n",
      "1. Strong green color: The grass has a strong green color that is deep and vibrant.\n",
      "\n",
      "2. Strong root system: Grass has a strong root system that enables it to absorb water and nutrients from the soil.\n",
      "\n",
      "3. Leafy leaves: Grass has leaves that are slightly different from the rest of the plant. They have a frond-like appearance and are often covered in fine hairs.\n",
      "\n",
      "4. High-energy plants: Grass is a high-energy plant that requires a lot of energy to grow. It has a relatively slow growing rate, but once it does, it produces a lot of leaves and other plant parts.\n",
      "\n",
      "5. Drought-resistant: Grass is drought-resistant because it has a thick root system that can absorb water from the soil even during droughts.\n",
      "\n",
      "6. Adaptable: Grass is adaptable to different environments and can grow in different types of soil and weather conditions.\n"
     ]
    }
   ],
   "source": [
    "messages = [\n",
    "    {\n",
    "        \"role\": \"system\",\n",
    "        \"content\": \"You are a friendly chatbot.\",\n",
    "    },\n",
    "    {\"role\": \"user\", \"content\": \"What grass is green, explain me please?\"},\n",
    "]\n",
    "prompt = pipe.tokenizer.apply_chat_template(\n",
    "    messages, tokenize=False, add_generation_prompt=True\n",
    ")\n",
    "outputs = pipe(\n",
    "    prompt, max_new_tokens=256, do_sample=True, temperature=0.7, top_k=50, top_p=0.95\n",
    ")\n",
    "print(outputs[0][\"generated_text\"])"
   ]
  }
 ],
 "metadata": {
  "kernelspec": {
   "display_name": "base",
   "language": "python",
   "name": "python3"
  },
  "language_info": {
   "codemirror_mode": {
    "name": "ipython",
    "version": 3
   },
   "file_extension": ".py",
   "mimetype": "text/x-python",
   "name": "python",
   "nbconvert_exporter": "python",
   "pygments_lexer": "ipython3",
   "version": "3.10.13"
  }
 },
 "nbformat": 4,
 "nbformat_minor": 2
}
