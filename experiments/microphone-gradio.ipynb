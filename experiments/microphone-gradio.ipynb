{
 "cells": [
  {
   "cell_type": "markdown",
   "id": "fef32ce8",
   "metadata": {},
   "source": [
    "https://www.gradio.app/guides/real-time-speech-recognition"
   ]
  },
  {
   "cell_type": "code",
   "execution_count": 8,
   "id": "d527ca56",
   "metadata": {},
   "outputs": [
    {
     "name": "stdout",
     "output_type": "stream",
     "text": [
      "Launched on http://127.0.0.1:7866/\n"
     ]
    },
    {
     "name": "stdout",
     "output_type": "stream",
     "text": [
      "{'sampling_rate': 48000, 'raw': array([ 0.        ,  0.        ,  0.        , ..., -0.02550394,\n",
      "       -0.02796041, -0.03720829], dtype=float32)}\n"
     ]
    }
   ],
   "source": [
    "import gradio as gr\n",
    "import numpy as np\n",
    "from IPython.display import clear_output\n",
    "\n",
    "def transcribe(audio):\n",
    "    sr, y = audio\n",
    "    y = y.astype(np.float32)\n",
    "    y /= np.max(np.abs(y))\n",
    "    print({\"sampling_rate\": sr, \"raw\": y})\n",
    "    return \"result\"\n",
    "\n",
    "\n",
    "demo = gr.Interface(\n",
    "    transcribe,\n",
    "    gr.Audio(sources=[\"microphone\"]),\n",
    "    \"text\",\n",
    ")\n",
    "demo.launch(inbrowser=True)\n",
    "clear_output()\n",
    "print(\"Launched on http://127.0.0.1:7866/\")"
   ]
  }
 ],
 "metadata": {
  "kernelspec": {
   "display_name": "Python 3 (ipykernel)",
   "language": "python",
   "name": "python3"
  },
  "language_info": {
   "codemirror_mode": {
    "name": "ipython",
    "version": 3
   },
   "file_extension": ".py",
   "mimetype": "text/x-python",
   "name": "python",
   "nbconvert_exporter": "python",
   "pygments_lexer": "ipython3",
   "version": "3.10.13"
  }
 },
 "nbformat": 4,
 "nbformat_minor": 5
}
